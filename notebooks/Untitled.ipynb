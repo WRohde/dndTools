{
 "cells": [
  {
   "cell_type": "code",
   "execution_count": 204,
   "metadata": {},
   "outputs": [],
   "source": [
    "from numpy import random as rd\n",
    "import numpy as np\n",
    "import csv\n",
    "\n",
    "class randomTable:\n",
    "    def __init__(self, tableEntries):\n",
    "        \"\"\"\n",
    "        tableEntries should be a list of strings and/or randomTable objects.  \n",
    "        \"\"\"               \n",
    "        self.tableEntries = tableEntries\n",
    "            \n",
    "    def __call__(self):\n",
    "        chosenEntry = self.tableEntries[rd.randint(0,len(self.tableEntries))]\n",
    "        \n",
    "        if (isinstance(chosenEntry,randomTable)):\n",
    "            chosenEntry()\n",
    "        else:\n",
    "            print(chosenEntry)\n",
    "        \n",
    "def randomTableFromCSV(filename):\n",
    "    \"\"\"\n",
    "    import a csv file as a randomTable, csv should be two columns \n",
    "    \"\"\"\n",
    "    tableEntries = []\n",
    "    with open(filename, newline='') as csvfile:\n",
    "        reader = csv.reader(csvfile, delimiter=',')\n",
    "        subtableFlag = False\n",
    "        for row in reader:\n",
    "            if(row[0] == 'subtable' and not subtableFlag):\n",
    "                subtableEntries = [row[1]]\n",
    "                subtableFlag = True\n",
    "            elif(row[0] == 'subtable' and subtableFlag):\n",
    "                subtableEntries.append(row[1])\n",
    "            elif(row[0] != 'subtable' and subtableFlag):\n",
    "                tableEntries.append(randomTable(subtableEntries))\n",
    "                tableEntries.append(row[1])\n",
    "                subtableFlag = False\n",
    "            else:\n",
    "                tableEntries.append(row[1])\n",
    "    return randomTable(tableEntries)\n",
    "\n",
    "passerbyEncounters = randomTableFromCSV('../config/passerbyEncounters.csv')\n",
    "faunaEncounters = randomTableFromCSV('../config/faunaEncounters.csv')\n",
    "floraEncounters = randomTableFromCSV('../config/floraEncounters.csv')\n",
    "intrigueEncounters = randomTableFromCSV('../config/intrigueEncounters.csv')\n",
    "humanoidThreatEncounters = randomTableFromCSV('../config/humanoidThreatEncounters.csv')\n",
    "threatEncounters = randomTableFromCSV('../config/threatEncounters.csv')\n",
    "\n",
    "campRandomEncounters = randomTableFromCSV('../config/campEncounters.csv')\n",
    "\n",
    "hethRandomEncounters = randomTable([passerbyEncounters,faunaEncounters,floraEncounters,intrigueEncounters,\n",
    "                                    humanoidThreatEncounters,threatEncounters,'describe the view lazy'])"
   ]
  },
  {
   "cell_type": "code",
   "execution_count": null,
   "metadata": {},
   "outputs": [],
   "source": []
  }
 ],
 "metadata": {
  "kernelspec": {
   "display_name": "Python 3",
   "language": "python",
   "name": "python3"
  },
  "language_info": {
   "codemirror_mode": {
    "name": "ipython",
    "version": 3
   },
   "file_extension": ".py",
   "mimetype": "text/x-python",
   "name": "python",
   "nbconvert_exporter": "python",
   "pygments_lexer": "ipython3",
   "version": "3.6.9"
  }
 },
 "nbformat": 4,
 "nbformat_minor": 2
}
