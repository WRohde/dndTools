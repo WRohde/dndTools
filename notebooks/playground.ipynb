{
 "cells": [
  {
   "cell_type": "code",
   "execution_count": 7,
   "metadata": {},
   "outputs": [],
   "source": [
    "import sys\n",
    "sys.path.insert(0,'../scripts/')\n",
    "import dndTools\n",
    "import heth\n",
    "import timos\n",
    "from matplotlib import pyplot as plt\n",
    "import numpy as np"
   ]
  },
  {
   "cell_type": "code",
   "execution_count": 182,
   "metadata": {},
   "outputs": [],
   "source": [
    "class purchase_power:\n",
    "    def __init__(self, percentage_at_price_point):\n",
    "        \"\"\"\n",
    "        percentage_at_at_price_point should be a list where values are the percentage (as a value between 0 and 1)\n",
    "        of people who can afford a price equal to 10 to the power of the index value.\n",
    "        \n",
    "        e.g a list [0.9,0.5,0.3,0.1] corresponds to 90% of people affording 1gp, 50% affording 10gp, 30% 100gp,\n",
    "        10% 1000gp\n",
    "        \"\"\"\n",
    "        percentage_afford = []\n",
    "        price = []\n",
    "        \n",
    "        for i,percentage in enumerate(percentage_at_price_point):\n",
    "            #I've hacked this to do it quickly\n",
    "            if (i==0):\n",
    "                price += np.linspace(0,10**i,2).tolist()\n",
    "                percentage_afford += np.linspace(1,percentage,2).tolist() \n",
    "            else:\n",
    "                price += np.linspace(10**(i-1),10**i,2).tolist()\n",
    "                percentage_afford += np.linspace(percentage_at_price_point[i-1],percentage,2).tolist()\n",
    "            \n",
    "        self.model = np.poly1d(np.polyfit(price,percentage_afford,1)) \n",
    "    \n",
    "    def __call__(self,price):\n",
    "        percentage_afford = self.model(price)\n",
    "        \n",
    "        if (percentage_afford > 1): percentage_afford = 1\n",
    "        if (percentage_afford < 0): percentage_afford = 0\n",
    "    \n",
    "        return percentage_afford \n",
    "\n",
    "        "
   ]
  },
  {
   "cell_type": "code",
   "execution_count": 183,
   "metadata": {},
   "outputs": [
    {
     "data": {
      "text/plain": [
       "[<matplotlib.lines.Line2D at 0x7f362c57f9e8>]"
      ]
     },
     "execution_count": 183,
     "metadata": {},
     "output_type": "execute_result"
    },
    {
     "data": {
      "image/png": "[encoded data removed]",
      "text/plain": [
       "<Figure size 432x288 with 1 Axes>"
      ]
     },
     "metadata": {
      "needs_background": "light"
     },
     "output_type": "display_data"
    }
   ],
   "source": [
    "hethport = purchase_power([0.9,0.6,0.1,0.1,0.05])\n",
    "\n",
    "vals = []\n",
    "for i in range (0,10000):\n",
    "    vals.append(hethport(i))\n",
    "plt.plot(vals)"
   ]
  },
  {
   "cell_type": "code",
   "execution_count": 101,
   "metadata": {},
   "outputs": [],
   "source": [
    "price = 3000"
   ]
  },
  {
   "cell_type": "code",
   "execution_count": 90,
   "metadata": {},
   "outputs": [
    {
     "name": "stderr",
     "output_type": "stream",
     "text": [
      "/home/will/.local/lib/python3.6/site-packages/ipykernel_launcher.py:1: RuntimeWarning: divide by zero encountered in log10\n",
      "  \"\"\"Entry point for launching an IPython kernel.\n"
     ]
    },
    {
     "data": {
      "text/plain": [
       "-inf"
      ]
     },
     "execution_count": 90,
     "metadata": {},
     "output_type": "execute_result"
    }
   ],
   "source": [
    "np.log10(0)"
   ]
  },
  {
   "cell_type": "code",
   "execution_count": null,
   "metadata": {},
   "outputs": [],
   "source": []
  }
 ],
 "metadata": {
  "kernelspec": {
   "display_name": "Python 3",
   "language": "python",
   "name": "python3"
  },
  "language_info": {
   "codemirror_mode": {
    "name": "ipython",
    "version": 3
   },
   "file_extension": ".py",
   "mimetype": "text/x-python",
   "name": "python",
   "nbconvert_exporter": "python",
   "pygments_lexer": "ipython3",
   "version": "3.6.9"
  }
 },
 "nbformat": 4,
 "nbformat_minor": 2
}
